{
  "cells": [
    {
      "cell_type": "markdown",
      "metadata": {
        "id": "view-in-github",
        "colab_type": "text"
      },
      "source": [
        "<a href=\"https://colab.research.google.com/github/seo-minsu/Python_Programming_Study/blob/main/pandas_exercises/09_Time_Series/Getting_Financial_Data/Exercises.ipynb\" target=\"_parent\"><img src=\"https://colab.research.google.com/assets/colab-badge.svg\" alt=\"Open In Colab\"/></a>"
      ]
    },
    {
      "cell_type": "markdown",
      "metadata": {
        "id": "Ql8ndX4L6fjC"
      },
      "source": [
        "# Getting Financial Data - Pandas Datareader"
      ]
    },
    {
      "cell_type": "markdown",
      "metadata": {
        "id": "hC5orHX16fjE"
      },
      "source": [
        "### Introduction:\n",
        "\n",
        "This time you will get data from a website.\n",
        "\n",
        "\n",
        "### Step 1. Import the necessary libraries"
      ]
    },
    {
      "cell_type": "code",
      "execution_count": 10,
      "metadata": {
        "id": "zJMXEqIm6fjE"
      },
      "outputs": [],
      "source": [
        "import pandas as pd\n",
        "from datetime import datetime\n",
        "\n",
        "import matplotlib.pyplot as plt"
      ]
    },
    {
      "cell_type": "markdown",
      "metadata": {
        "id": "K9wGN8886fjE"
      },
      "source": [
        "### Step 2. Create your time range (start and end variables). The start date should be 01/01/2015 and the end should today (whatever your today is).\n",
        "\n",
        "--> 2015년 1월 1일부터 현재 날짜까지의 날짜 범위 생성"
      ]
    },
    {
      "cell_type": "code",
      "execution_count": 5,
      "metadata": {
        "id": "xCeTb-va6fjF",
        "outputId": "12ca9a48-3b74-4c51-fbb2-40d9d0a7eb5d",
        "colab": {
          "base_uri": "https://localhost:8080/"
        }
      },
      "outputs": [
        {
          "output_type": "execute_result",
          "data": {
            "text/plain": [
              "DatetimeIndex(['2015-01-01', '2015-01-02', '2015-01-03', '2015-01-04',\n",
              "               '2015-01-05', '2015-01-06', '2015-01-07', '2015-01-08',\n",
              "               '2015-01-09', '2015-01-10',\n",
              "               ...\n",
              "               '2024-11-03', '2024-11-04', '2024-11-05', '2024-11-06',\n",
              "               '2024-11-07', '2024-11-08', '2024-11-09', '2024-11-10',\n",
              "               '2024-11-11', '2024-11-12'],\n",
              "              dtype='datetime64[ns]', length=3604, freq='D')"
            ]
          },
          "metadata": {},
          "execution_count": 5
        }
      ],
      "source": [
        "##날짜 범위 생성 함수: pandas.date_range\n",
        "\n",
        "start_date = '2015-01-01'\n",
        "end_date = datetime.today()\n",
        "\n",
        "date_range = pd.date_range(start=start_date, end=end_date)\n",
        "\n",
        "date_range"
      ]
    },
    {
      "cell_type": "markdown",
      "metadata": {
        "id": "AYqcW1sO6fjF"
      },
      "source": [
        "### Step 3. Get an API key for one of the APIs that are supported by Pandas Datareader, preferably for AlphaVantage.\n",
        "\n",
        "--> Pandas Datareader에서 지원하는 API 중 하나에 대한 API 키 가져와라, AlphaVantage API 키 선호\n",
        "\n",
        "If you do not have an API key for any of the supported APIs, it is easiest to get one for [AlphaVantage](https://www.alphavantage.co/support/#api-key). (Note that the API key is shown directly after the signup. You do *not* receive it via e-mail.)\n",
        "\n",
        "(For a full list of the APIs that are supported by Pandas Datareader, [see here](https://pydata.github.io/pandas-datareader/readers/index.html). As the APIs are provided by third parties, this list may change.)\n",
        "\n",
        "--> Pandas datareader에서 사용할 수 있는 API가 여러가지가 있지만 그 중 알파빈티지 API가 가장 간단함. 회원가입 하고 바로 키 복사해서 쓰면 됨"
      ]
    },
    {
      "cell_type": "code",
      "source": [
        "import pandas_datareader.data as web\n",
        "api_key = 'DV8J848ACN9CMSGT'\n",
        "\n",
        "## 이건 GPT가 제안한 해당 키 활용 예시인데 잘 안되었음\n",
        "##data = web.Datareader('AAPL', 'av-daily', start='2020-01-01', end='2024-11-12', api_key=api_key)\n",
        "##data.head()"
      ],
      "metadata": {
        "id": "6iBPV6Dx9374"
      },
      "execution_count": 8,
      "outputs": []
    },
    {
      "cell_type": "markdown",
      "metadata": {
        "id": "OH7AwNm86fjF"
      },
      "source": [
        "### Step 4. Use Pandas Datarader to read the daily time series for the Apple stock (ticker symbol AAPL) between 01/01/2015 and today, assign it to df_apple and print it."
      ]
    },
    {
      "cell_type": "code",
      "execution_count": 9,
      "metadata": {
        "id": "i5ESIhcJ6fjF",
        "outputId": "9a3636da-9670-4fbb-b4f8-2d50ceaf8bc5",
        "colab": {
          "base_uri": "https://localhost:8080/",
          "height": 424
        }
      },
      "outputs": [
        {
          "output_type": "execute_result",
          "data": {
            "text/plain": [
              "               open     high      low   close    volume\n",
              "2015-01-02  111.390  111.440  107.350  109.33  53204626\n",
              "2015-01-05  108.290  108.650  105.410  106.25  64285491\n",
              "2015-01-06  106.540  107.430  104.630  106.26  65797116\n",
              "2015-01-07  107.200  108.200  106.695  107.75  40105934\n",
              "2015-01-08  109.230  112.150  108.700  111.89  59364547\n",
              "...             ...      ...      ...     ...       ...\n",
              "2024-11-05  221.795  223.950  221.140  223.45  28111338\n",
              "2024-11-06  222.610  226.065  221.190  222.72  54561121\n",
              "2024-11-07  224.625  227.875  224.570  227.48  42137691\n",
              "2024-11-08  227.170  228.660  226.405  226.96  38328824\n",
              "2024-11-11  225.000  225.700  221.500  224.23  41345521\n",
              "\n",
              "[2482 rows x 5 columns]"
            ],
            "text/html": [
              "\n",
              "  <div id=\"df-e9bc77fe-0dac-45c4-88fd-1622ddba5df8\" class=\"colab-df-container\">\n",
              "    <div>\n",
              "<style scoped>\n",
              "    .dataframe tbody tr th:only-of-type {\n",
              "        vertical-align: middle;\n",
              "    }\n",
              "\n",
              "    .dataframe tbody tr th {\n",
              "        vertical-align: top;\n",
              "    }\n",
              "\n",
              "    .dataframe thead th {\n",
              "        text-align: right;\n",
              "    }\n",
              "</style>\n",
              "<table border=\"1\" class=\"dataframe\">\n",
              "  <thead>\n",
              "    <tr style=\"text-align: right;\">\n",
              "      <th></th>\n",
              "      <th>open</th>\n",
              "      <th>high</th>\n",
              "      <th>low</th>\n",
              "      <th>close</th>\n",
              "      <th>volume</th>\n",
              "    </tr>\n",
              "  </thead>\n",
              "  <tbody>\n",
              "    <tr>\n",
              "      <th>2015-01-02</th>\n",
              "      <td>111.390</td>\n",
              "      <td>111.440</td>\n",
              "      <td>107.350</td>\n",
              "      <td>109.33</td>\n",
              "      <td>53204626</td>\n",
              "    </tr>\n",
              "    <tr>\n",
              "      <th>2015-01-05</th>\n",
              "      <td>108.290</td>\n",
              "      <td>108.650</td>\n",
              "      <td>105.410</td>\n",
              "      <td>106.25</td>\n",
              "      <td>64285491</td>\n",
              "    </tr>\n",
              "    <tr>\n",
              "      <th>2015-01-06</th>\n",
              "      <td>106.540</td>\n",
              "      <td>107.430</td>\n",
              "      <td>104.630</td>\n",
              "      <td>106.26</td>\n",
              "      <td>65797116</td>\n",
              "    </tr>\n",
              "    <tr>\n",
              "      <th>2015-01-07</th>\n",
              "      <td>107.200</td>\n",
              "      <td>108.200</td>\n",
              "      <td>106.695</td>\n",
              "      <td>107.75</td>\n",
              "      <td>40105934</td>\n",
              "    </tr>\n",
              "    <tr>\n",
              "      <th>2015-01-08</th>\n",
              "      <td>109.230</td>\n",
              "      <td>112.150</td>\n",
              "      <td>108.700</td>\n",
              "      <td>111.89</td>\n",
              "      <td>59364547</td>\n",
              "    </tr>\n",
              "    <tr>\n",
              "      <th>...</th>\n",
              "      <td>...</td>\n",
              "      <td>...</td>\n",
              "      <td>...</td>\n",
              "      <td>...</td>\n",
              "      <td>...</td>\n",
              "    </tr>\n",
              "    <tr>\n",
              "      <th>2024-11-05</th>\n",
              "      <td>221.795</td>\n",
              "      <td>223.950</td>\n",
              "      <td>221.140</td>\n",
              "      <td>223.45</td>\n",
              "      <td>28111338</td>\n",
              "    </tr>\n",
              "    <tr>\n",
              "      <th>2024-11-06</th>\n",
              "      <td>222.610</td>\n",
              "      <td>226.065</td>\n",
              "      <td>221.190</td>\n",
              "      <td>222.72</td>\n",
              "      <td>54561121</td>\n",
              "    </tr>\n",
              "    <tr>\n",
              "      <th>2024-11-07</th>\n",
              "      <td>224.625</td>\n",
              "      <td>227.875</td>\n",
              "      <td>224.570</td>\n",
              "      <td>227.48</td>\n",
              "      <td>42137691</td>\n",
              "    </tr>\n",
              "    <tr>\n",
              "      <th>2024-11-08</th>\n",
              "      <td>227.170</td>\n",
              "      <td>228.660</td>\n",
              "      <td>226.405</td>\n",
              "      <td>226.96</td>\n",
              "      <td>38328824</td>\n",
              "    </tr>\n",
              "    <tr>\n",
              "      <th>2024-11-11</th>\n",
              "      <td>225.000</td>\n",
              "      <td>225.700</td>\n",
              "      <td>221.500</td>\n",
              "      <td>224.23</td>\n",
              "      <td>41345521</td>\n",
              "    </tr>\n",
              "  </tbody>\n",
              "</table>\n",
              "<p>2482 rows × 5 columns</p>\n",
              "</div>\n",
              "    <div class=\"colab-df-buttons\">\n",
              "\n",
              "  <div class=\"colab-df-container\">\n",
              "    <button class=\"colab-df-convert\" onclick=\"convertToInteractive('df-e9bc77fe-0dac-45c4-88fd-1622ddba5df8')\"\n",
              "            title=\"Convert this dataframe to an interactive table.\"\n",
              "            style=\"display:none;\">\n",
              "\n",
              "  <svg xmlns=\"http://www.w3.org/2000/svg\" height=\"24px\" viewBox=\"0 -960 960 960\">\n",
              "    <path d=\"M120-120v-720h720v720H120Zm60-500h600v-160H180v160Zm220 220h160v-160H400v160Zm0 220h160v-160H400v160ZM180-400h160v-160H180v160Zm440 0h160v-160H620v160ZM180-180h160v-160H180v160Zm440 0h160v-160H620v160Z\"/>\n",
              "  </svg>\n",
              "    </button>\n",
              "\n",
              "  <style>\n",
              "    .colab-df-container {\n",
              "      display:flex;\n",
              "      gap: 12px;\n",
              "    }\n",
              "\n",
              "    .colab-df-convert {\n",
              "      background-color: #E8F0FE;\n",
              "      border: none;\n",
              "      border-radius: 50%;\n",
              "      cursor: pointer;\n",
              "      display: none;\n",
              "      fill: #1967D2;\n",
              "      height: 32px;\n",
              "      padding: 0 0 0 0;\n",
              "      width: 32px;\n",
              "    }\n",
              "\n",
              "    .colab-df-convert:hover {\n",
              "      background-color: #E2EBFA;\n",
              "      box-shadow: 0px 1px 2px rgba(60, 64, 67, 0.3), 0px 1px 3px 1px rgba(60, 64, 67, 0.15);\n",
              "      fill: #174EA6;\n",
              "    }\n",
              "\n",
              "    .colab-df-buttons div {\n",
              "      margin-bottom: 4px;\n",
              "    }\n",
              "\n",
              "    [theme=dark] .colab-df-convert {\n",
              "      background-color: #3B4455;\n",
              "      fill: #D2E3FC;\n",
              "    }\n",
              "\n",
              "    [theme=dark] .colab-df-convert:hover {\n",
              "      background-color: #434B5C;\n",
              "      box-shadow: 0px 1px 3px 1px rgba(0, 0, 0, 0.15);\n",
              "      filter: drop-shadow(0px 1px 2px rgba(0, 0, 0, 0.3));\n",
              "      fill: #FFFFFF;\n",
              "    }\n",
              "  </style>\n",
              "\n",
              "    <script>\n",
              "      const buttonEl =\n",
              "        document.querySelector('#df-e9bc77fe-0dac-45c4-88fd-1622ddba5df8 button.colab-df-convert');\n",
              "      buttonEl.style.display =\n",
              "        google.colab.kernel.accessAllowed ? 'block' : 'none';\n",
              "\n",
              "      async function convertToInteractive(key) {\n",
              "        const element = document.querySelector('#df-e9bc77fe-0dac-45c4-88fd-1622ddba5df8');\n",
              "        const dataTable =\n",
              "          await google.colab.kernel.invokeFunction('convertToInteractive',\n",
              "                                                    [key], {});\n",
              "        if (!dataTable) return;\n",
              "\n",
              "        const docLinkHtml = 'Like what you see? Visit the ' +\n",
              "          '<a target=\"_blank\" href=https://colab.research.google.com/notebooks/data_table.ipynb>data table notebook</a>'\n",
              "          + ' to learn more about interactive tables.';\n",
              "        element.innerHTML = '';\n",
              "        dataTable['output_type'] = 'display_data';\n",
              "        await google.colab.output.renderOutput(dataTable, element);\n",
              "        const docLink = document.createElement('div');\n",
              "        docLink.innerHTML = docLinkHtml;\n",
              "        element.appendChild(docLink);\n",
              "      }\n",
              "    </script>\n",
              "  </div>\n",
              "\n",
              "\n",
              "<div id=\"df-2d84ea1a-914c-49fb-9fea-c65365ff88a5\">\n",
              "  <button class=\"colab-df-quickchart\" onclick=\"quickchart('df-2d84ea1a-914c-49fb-9fea-c65365ff88a5')\"\n",
              "            title=\"Suggest charts\"\n",
              "            style=\"display:none;\">\n",
              "\n",
              "<svg xmlns=\"http://www.w3.org/2000/svg\" height=\"24px\"viewBox=\"0 0 24 24\"\n",
              "     width=\"24px\">\n",
              "    <g>\n",
              "        <path d=\"M19 3H5c-1.1 0-2 .9-2 2v14c0 1.1.9 2 2 2h14c1.1 0 2-.9 2-2V5c0-1.1-.9-2-2-2zM9 17H7v-7h2v7zm4 0h-2V7h2v10zm4 0h-2v-4h2v4z\"/>\n",
              "    </g>\n",
              "</svg>\n",
              "  </button>\n",
              "\n",
              "<style>\n",
              "  .colab-df-quickchart {\n",
              "      --bg-color: #E8F0FE;\n",
              "      --fill-color: #1967D2;\n",
              "      --hover-bg-color: #E2EBFA;\n",
              "      --hover-fill-color: #174EA6;\n",
              "      --disabled-fill-color: #AAA;\n",
              "      --disabled-bg-color: #DDD;\n",
              "  }\n",
              "\n",
              "  [theme=dark] .colab-df-quickchart {\n",
              "      --bg-color: #3B4455;\n",
              "      --fill-color: #D2E3FC;\n",
              "      --hover-bg-color: #434B5C;\n",
              "      --hover-fill-color: #FFFFFF;\n",
              "      --disabled-bg-color: #3B4455;\n",
              "      --disabled-fill-color: #666;\n",
              "  }\n",
              "\n",
              "  .colab-df-quickchart {\n",
              "    background-color: var(--bg-color);\n",
              "    border: none;\n",
              "    border-radius: 50%;\n",
              "    cursor: pointer;\n",
              "    display: none;\n",
              "    fill: var(--fill-color);\n",
              "    height: 32px;\n",
              "    padding: 0;\n",
              "    width: 32px;\n",
              "  }\n",
              "\n",
              "  .colab-df-quickchart:hover {\n",
              "    background-color: var(--hover-bg-color);\n",
              "    box-shadow: 0 1px 2px rgba(60, 64, 67, 0.3), 0 1px 3px 1px rgba(60, 64, 67, 0.15);\n",
              "    fill: var(--button-hover-fill-color);\n",
              "  }\n",
              "\n",
              "  .colab-df-quickchart-complete:disabled,\n",
              "  .colab-df-quickchart-complete:disabled:hover {\n",
              "    background-color: var(--disabled-bg-color);\n",
              "    fill: var(--disabled-fill-color);\n",
              "    box-shadow: none;\n",
              "  }\n",
              "\n",
              "  .colab-df-spinner {\n",
              "    border: 2px solid var(--fill-color);\n",
              "    border-color: transparent;\n",
              "    border-bottom-color: var(--fill-color);\n",
              "    animation:\n",
              "      spin 1s steps(1) infinite;\n",
              "  }\n",
              "\n",
              "  @keyframes spin {\n",
              "    0% {\n",
              "      border-color: transparent;\n",
              "      border-bottom-color: var(--fill-color);\n",
              "      border-left-color: var(--fill-color);\n",
              "    }\n",
              "    20% {\n",
              "      border-color: transparent;\n",
              "      border-left-color: var(--fill-color);\n",
              "      border-top-color: var(--fill-color);\n",
              "    }\n",
              "    30% {\n",
              "      border-color: transparent;\n",
              "      border-left-color: var(--fill-color);\n",
              "      border-top-color: var(--fill-color);\n",
              "      border-right-color: var(--fill-color);\n",
              "    }\n",
              "    40% {\n",
              "      border-color: transparent;\n",
              "      border-right-color: var(--fill-color);\n",
              "      border-top-color: var(--fill-color);\n",
              "    }\n",
              "    60% {\n",
              "      border-color: transparent;\n",
              "      border-right-color: var(--fill-color);\n",
              "    }\n",
              "    80% {\n",
              "      border-color: transparent;\n",
              "      border-right-color: var(--fill-color);\n",
              "      border-bottom-color: var(--fill-color);\n",
              "    }\n",
              "    90% {\n",
              "      border-color: transparent;\n",
              "      border-bottom-color: var(--fill-color);\n",
              "    }\n",
              "  }\n",
              "</style>\n",
              "\n",
              "  <script>\n",
              "    async function quickchart(key) {\n",
              "      const quickchartButtonEl =\n",
              "        document.querySelector('#' + key + ' button');\n",
              "      quickchartButtonEl.disabled = true;  // To prevent multiple clicks.\n",
              "      quickchartButtonEl.classList.add('colab-df-spinner');\n",
              "      try {\n",
              "        const charts = await google.colab.kernel.invokeFunction(\n",
              "            'suggestCharts', [key], {});\n",
              "      } catch (error) {\n",
              "        console.error('Error during call to suggestCharts:', error);\n",
              "      }\n",
              "      quickchartButtonEl.classList.remove('colab-df-spinner');\n",
              "      quickchartButtonEl.classList.add('colab-df-quickchart-complete');\n",
              "    }\n",
              "    (() => {\n",
              "      let quickchartButtonEl =\n",
              "        document.querySelector('#df-2d84ea1a-914c-49fb-9fea-c65365ff88a5 button');\n",
              "      quickchartButtonEl.style.display =\n",
              "        google.colab.kernel.accessAllowed ? 'block' : 'none';\n",
              "    })();\n",
              "  </script>\n",
              "</div>\n",
              "\n",
              "  <div id=\"id_9cfc492a-796f-4968-8269-b5d0702291a3\">\n",
              "    <style>\n",
              "      .colab-df-generate {\n",
              "        background-color: #E8F0FE;\n",
              "        border: none;\n",
              "        border-radius: 50%;\n",
              "        cursor: pointer;\n",
              "        display: none;\n",
              "        fill: #1967D2;\n",
              "        height: 32px;\n",
              "        padding: 0 0 0 0;\n",
              "        width: 32px;\n",
              "      }\n",
              "\n",
              "      .colab-df-generate:hover {\n",
              "        background-color: #E2EBFA;\n",
              "        box-shadow: 0px 1px 2px rgba(60, 64, 67, 0.3), 0px 1px 3px 1px rgba(60, 64, 67, 0.15);\n",
              "        fill: #174EA6;\n",
              "      }\n",
              "\n",
              "      [theme=dark] .colab-df-generate {\n",
              "        background-color: #3B4455;\n",
              "        fill: #D2E3FC;\n",
              "      }\n",
              "\n",
              "      [theme=dark] .colab-df-generate:hover {\n",
              "        background-color: #434B5C;\n",
              "        box-shadow: 0px 1px 3px 1px rgba(0, 0, 0, 0.15);\n",
              "        filter: drop-shadow(0px 1px 2px rgba(0, 0, 0, 0.3));\n",
              "        fill: #FFFFFF;\n",
              "      }\n",
              "    </style>\n",
              "    <button class=\"colab-df-generate\" onclick=\"generateWithVariable('df_AAPL')\"\n",
              "            title=\"Generate code using this dataframe.\"\n",
              "            style=\"display:none;\">\n",
              "\n",
              "  <svg xmlns=\"http://www.w3.org/2000/svg\" height=\"24px\"viewBox=\"0 0 24 24\"\n",
              "       width=\"24px\">\n",
              "    <path d=\"M7,19H8.4L18.45,9,17,7.55,7,17.6ZM5,21V16.75L18.45,3.32a2,2,0,0,1,2.83,0l1.4,1.43a1.91,1.91,0,0,1,.58,1.4,1.91,1.91,0,0,1-.58,1.4L9.25,21ZM18.45,9,17,7.55Zm-12,3A5.31,5.31,0,0,0,4.9,8.1,5.31,5.31,0,0,0,1,6.5,5.31,5.31,0,0,0,4.9,4.9,5.31,5.31,0,0,0,6.5,1,5.31,5.31,0,0,0,8.1,4.9,5.31,5.31,0,0,0,12,6.5,5.46,5.46,0,0,0,6.5,12Z\"/>\n",
              "  </svg>\n",
              "    </button>\n",
              "    <script>\n",
              "      (() => {\n",
              "      const buttonEl =\n",
              "        document.querySelector('#id_9cfc492a-796f-4968-8269-b5d0702291a3 button.colab-df-generate');\n",
              "      buttonEl.style.display =\n",
              "        google.colab.kernel.accessAllowed ? 'block' : 'none';\n",
              "\n",
              "      buttonEl.onclick = () => {\n",
              "        google.colab.notebook.generateWithVariable('df_AAPL');\n",
              "      }\n",
              "      })();\n",
              "    </script>\n",
              "  </div>\n",
              "\n",
              "    </div>\n",
              "  </div>\n"
            ],
            "application/vnd.google.colaboratory.intrinsic+json": {
              "type": "dataframe",
              "variable_name": "df_AAPL",
              "summary": "{\n  \"name\": \"df_AAPL\",\n  \"rows\": 2482,\n  \"fields\": [\n    {\n      \"column\": \"open\",\n      \"properties\": {\n        \"dtype\": \"number\",\n        \"std\": 59.45485734536385,\n        \"min\": 90.0,\n        \"max\": 514.79,\n        \"num_unique_values\": 2281,\n        \"samples\": [\n          97.06,\n          156.71,\n          195.42\n        ],\n        \"semantic_type\": \"\",\n        \"description\": \"\"\n      }\n    },\n    {\n      \"column\": \"high\",\n      \"properties\": {\n        \"dtype\": \"number\",\n        \"std\": 60.2669452687283,\n        \"min\": 91.67,\n        \"max\": 515.14,\n        \"num_unique_values\": 2278,\n        \"samples\": [\n          172.68,\n          115.86,\n          126.82\n        ],\n        \"semantic_type\": \"\",\n        \"description\": \"\"\n      }\n    },\n    {\n      \"column\": \"low\",\n      \"properties\": {\n        \"dtype\": \"number\",\n        \"std\": 58.813095521708114,\n        \"min\": 89.47,\n        \"max\": 500.33,\n        \"num_unique_values\": 2327,\n        \"samples\": [\n          172.75,\n          178.05,\n          172.3108\n        ],\n        \"semantic_type\": \"\",\n        \"description\": \"\"\n      }\n    },\n    {\n      \"column\": \"close\",\n      \"properties\": {\n        \"dtype\": \"number\",\n        \"std\": 59.663335602624855,\n        \"min\": 90.34,\n        \"max\": 506.09,\n        \"num_unique_values\": 2283,\n        \"samples\": [\n          144.22,\n          220.85,\n          155.39\n        ],\n        \"semantic_type\": \"\",\n        \"description\": \"\"\n      }\n    },\n    {\n      \"column\": \"volume\",\n      \"properties\": {\n        \"dtype\": \"number\",\n        \"std\": 34571164,\n        \"min\": 11362045,\n        \"max\": 332607163,\n        \"num_unique_values\": 2482,\n        \"samples\": [\n          68457388,\n          21064679,\n          59222803\n        ],\n        \"semantic_type\": \"\",\n        \"description\": \"\"\n      }\n    }\n  ]\n}"
            }
          },
          "metadata": {},
          "execution_count": 9
        }
      ],
      "source": [
        "start_date = '2015-01-01'\n",
        "end_date = datetime.today()\n",
        "df_AAPL = web.DataReader('AAPL','av-daily', start=start_date, end=end_date, api_key=api_key)\n",
        "\n",
        "df_AAPL"
      ]
    },
    {
      "cell_type": "code",
      "source": [
        "## 꺾은선 그래프 그리기\n",
        "plt.plot(df_AAPL.index, df_AAPL['close'], label = 'Apple Stock Price(Close)')\n",
        "plt.xlabel"
      ],
      "metadata": {
        "id": "dnuzNzID_8Ni"
      },
      "execution_count": null,
      "outputs": []
    },
    {
      "cell_type": "markdown",
      "metadata": {
        "id": "nCV3mDXJ6fjF"
      },
      "source": [
        "### Step 5. Add a new column \"stock\" to the dataframe and add the ticker symbol"
      ]
    },
    {
      "cell_type": "code",
      "execution_count": null,
      "metadata": {
        "id": "oRUnK-6u6fjG"
      },
      "outputs": [],
      "source": []
    },
    {
      "cell_type": "markdown",
      "metadata": {
        "id": "BuVald4-6fjG"
      },
      "source": [
        "### Step 6. Repeat the two previous steps for a few other stocks, always creating a new dataframe: Tesla, IBM and Microsoft. (Ticker symbols TSLA, IBM and MSFT.)"
      ]
    },
    {
      "cell_type": "code",
      "execution_count": null,
      "metadata": {
        "id": "ePgrRtTI6fjG"
      },
      "outputs": [],
      "source": []
    },
    {
      "cell_type": "markdown",
      "metadata": {
        "id": "HJCycq3y6fjG"
      },
      "source": [
        "### Step 7. Combine the four separate dataFrames into one combined dataFrame df that holds the information for all four stocks"
      ]
    },
    {
      "cell_type": "code",
      "execution_count": null,
      "metadata": {
        "id": "DAIFR2Rb6fjH"
      },
      "outputs": [],
      "source": []
    },
    {
      "cell_type": "markdown",
      "metadata": {
        "id": "_gl6BqGc6fjH"
      },
      "source": [
        "### Step 8. Shift the stock column into the index (making it a multi-level index consisting of the ticker symbol and the date)."
      ]
    },
    {
      "cell_type": "code",
      "execution_count": null,
      "metadata": {
        "id": "CDawdJv26fjH"
      },
      "outputs": [],
      "source": []
    },
    {
      "cell_type": "markdown",
      "metadata": {
        "id": "MZcJN1PV6fjH"
      },
      "source": [
        "### Step 7. Create a dataFrame called vol, with the volume values."
      ]
    },
    {
      "cell_type": "code",
      "execution_count": null,
      "metadata": {
        "id": "a6R1PGHL6fjH"
      },
      "outputs": [],
      "source": []
    },
    {
      "cell_type": "markdown",
      "metadata": {
        "id": "_BT6oa516fjH"
      },
      "source": [
        "### Step 8. Aggregate the data of volume to weekly.\n",
        "Hint: Be careful to not sum data from the same week of 2015 and other years."
      ]
    },
    {
      "cell_type": "code",
      "execution_count": null,
      "metadata": {
        "id": "Mk2wwOXZ6fjI"
      },
      "outputs": [],
      "source": []
    },
    {
      "cell_type": "markdown",
      "metadata": {
        "id": "JiYpGFsl6fjI"
      },
      "source": [
        "### Step 9. Find all the volume traded in the year of 2015"
      ]
    },
    {
      "cell_type": "code",
      "execution_count": null,
      "metadata": {
        "id": "OUohBfCO6fjI"
      },
      "outputs": [],
      "source": []
    }
  ],
  "metadata": {
    "kernelspec": {
      "display_name": "Python 3",
      "language": "python",
      "name": "python3"
    },
    "language_info": {
      "codemirror_mode": {
        "name": "ipython",
        "version": 3
      },
      "file_extension": ".py",
      "mimetype": "text/x-python",
      "name": "python",
      "nbconvert_exporter": "python",
      "pygments_lexer": "ipython3",
      "version": "3.7.4"
    },
    "colab": {
      "provenance": [],
      "include_colab_link": true
    }
  },
  "nbformat": 4,
  "nbformat_minor": 0
}